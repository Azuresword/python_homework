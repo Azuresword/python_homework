{
 "cells": [
  {
   "cell_type": "code",
   "execution_count": 2,
   "metadata": {},
   "outputs": [
    {
     "name": "stdout",
     "output_type": "stream",
     "text": [
      "1\n",
      "5\n",
      "1\n",
      "3\n"
     ]
    }
   ],
   "source": [
    "# coding=utf-8\n",
    "# 创建并读入 range 函数的相应参数\n",
    "lower = int(input())\n",
    "upper = int(input())\n",
    "step = int(input())\n",
    "# 请在此添加代码，实现编程要求\n",
    "########## Begin ##########\n",
    "a=range(lower,upper,step)\n",
    "list_a=a\n",
    "lenth=-(-(upper-lower)//step)\n",
    "min= min(list_a)\n",
    "max= max(list_a)\n",
    "s=max-min\n",
    "print(s)\n",
    "########## End ##########"
   ]
  }
 ],
 "metadata": {
  "kernelspec": {
   "display_name": "Python 3",
   "language": "python",
   "name": "python3"
  },
  "language_info": {
   "codemirror_mode": {
    "name": "ipython",
    "version": 3
   },
   "file_extension": ".py",
   "mimetype": "text/x-python",
   "name": "python",
   "nbconvert_exporter": "python",
   "pygments_lexer": "ipython3",
   "version": "3.8.5"
  }
 },
 "nbformat": 4,
 "nbformat_minor": 4
}
