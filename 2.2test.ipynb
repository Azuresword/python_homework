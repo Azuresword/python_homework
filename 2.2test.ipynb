{
 "cells": [
  {
   "cell_type": "code",
   "execution_count": 1,
   "metadata": {},
   "outputs": [
    {
     "name": "stdout",
     "output_type": "stream",
     "text": [
      "195\n"
     ]
    }
   ],
   "source": [
    "a = 10\n",
    "b = 3\n",
    "a += b # 相当于：a = a + b\n",
    "a *= a + 2 # 相当于：a = a * (a + 2)\n",
    "print(a) # 算一下这里会输出什么\n"
   ]
  },
  {
   "cell_type": "code",
   "execution_count": 36,
   "metadata": {},
   "outputs": [
    {
     "name": "stdout",
     "output_type": "stream",
     "text": [
      "请输入华氏温度: 100\n",
      "100.0 华氏度 = 37.8 摄氏度\n"
     ]
    }
   ],
   "source": [
    "\n",
    "\n",
    "f = float(input('请输入华氏温度: '))\n",
    "c = (f - 32) / 1.8\n",
    "print('%.1f 华氏度 = %.1f 摄氏度' % (f, c))"
   ]
  },
  {
   "cell_type": "code",
   "execution_count": 37,
   "metadata": {},
   "outputs": [
    {
     "name": "stdout",
     "output_type": "stream",
     "text": [
      "请输入年份: 2002\n",
      "False\n"
     ]
    }
   ],
   "source": [
    "\n",
    "year = int(input('请输入年份: '))\n",
    "is_leap = year % 4 == 0 and year % 100 != 0 or \\\n",
    "year % 400 == 0\n",
    "print(is_leap)"
   ]
  },
  {
   "cell_type": "code",
   "execution_count": 45,
   "metadata": {},
   "outputs": [
    {
     "name": "stdout",
     "output_type": "stream",
     "text": [
      "-455.8\n",
      "-148.0\n",
      "32.0\n",
      "212.0\n",
      "1832.0\n",
      "\n",
      "***********************\n",
      "\n"
     ]
    }
   ],
   "source": [
    "for temperature in [-271, -100, 0, 100, 1000]:\n",
    "#请在下面编写代码\n",
    "    c=temperature\n",
    "    F=c*1.8+32\n",
    "#请不要修改下面的代码\n",
    "    print(F)\n",
    "print('\\n***********************\\n')\n"
   ]
  },
  {
   "cell_type": "code",
   "execution_count": 4,
   "metadata": {},
   "outputs": [
    {
     "name": "stdout",
     "output_type": "stream",
     "text": [
      "0.05399096651318806\n",
      "0.17603266338214976\n",
      "0.08801633169107488\n",
      "0.003973298315786884\n",
      "\n",
      "***********************\n",
      "\n"
     ]
    }
   ],
   "source": [
    "import numpy as np\n",
    "import matplotlib.pyplot as ply\n",
    "import math\n",
    "def fun(x,m,s):\n",
    "    return np.exp(-1*((x-m)**2)/(2*(s**2)))/(math.sqrt(2*np.pi)*s)\n",
    "for (m, s, x) in [(0,2,1),(1,2,2),(1,3,4),(1,10,100)]:\n",
    "    fx=fun(m,s,x)\n",
    "    print(fx)\n",
    "print('\\n***********************\\n')"
   ]
  },
  {
   "cell_type": "code",
   "execution_count": 6,
   "metadata": {},
   "outputs": [
    {
     "name": "stdout",
     "output_type": "stream",
     "text": [
      "0.0\n",
      "2.3012989023072947\n",
      "11.548739357257748\n",
      "55.65439759941754\n",
      "267.74489404101644\n",
      "1287.985054197183\n",
      "6195.823863608588\n",
      "\n",
      "***********************\n",
      "\n"
     ]
    }
   ],
   "source": [
    "import numpy as np\n",
    "import matplotlib.pyplot as ply\n",
    "import math\n",
    "def fun(x):\n",
    "    return (np.exp(x)-np.exp(-x))/2\n",
    "for x in [0.0, np.pi/2, np.pi, 3*np.pi/2, 2*np.pi, 5*np.pi/2, 3*np.pi]:\n",
    "    fx=fun(x)\n",
    "    print(fx)\n",
    "print('\\n***********************\\n')\n",
    "# ********** End ********** #\n",
    "\n",
    "    "
   ]
  }
 ],
 "metadata": {
  "kernelspec": {
   "display_name": "Python 3",
   "language": "python",
   "name": "python3"
  },
  "language_info": {
   "codemirror_mode": {
    "name": "ipython",
    "version": 3
   },
   "file_extension": ".py",
   "mimetype": "text/x-python",
   "name": "python",
   "nbconvert_exporter": "python",
   "pygments_lexer": "ipython3",
   "version": "3.8.5"
  }
 },
 "nbformat": 4,
 "nbformat_minor": 4
}
