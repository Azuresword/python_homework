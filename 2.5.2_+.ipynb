{
 "cells": [
  {
   "cell_type": "code",
   "execution_count": 5,
   "metadata": {},
   "outputs": [
    {
     "name": "stdout",
     "output_type": "stream",
     "text": [
      "0\n",
      "30\n",
      "60\n",
      "90\n",
      "120\n",
      "150\n",
      "180\n",
      "210\n",
      "240\n",
      "270\n",
      "300\n"
     ]
    }
   ],
   "source": [
    "i=0\n",
    "while i<=300:\n",
    "    if i%2==0 and i%3==0 and i%5==0:\n",
    "        print(i)\n",
    "    i+=1"
   ]
  },
  {
   "cell_type": "code",
   "execution_count": 8,
   "metadata": {},
   "outputs": [
    {
     "name": "stdout",
     "output_type": "stream",
     "text": [
      "4950\n",
      "4950 < 5050\n",
      "\n",
      "***********************\n",
      "\n"
     ]
    }
   ],
   "source": [
    "# 请在下面编写代码\n",
    "# ********** Begin ********** \n",
    "sum=0\n",
    "for a in range(100):\n",
    "    sum+=a\n",
    "print(sum)\n",
    "# ********** End ********** #\n",
    "# 请不要修改下面的代码\n",
    "print(sum, '<', 100*(100+1)//2)\n",
    "print('\\n***********************\\n')"
   ]
  },
  {
   "cell_type": "code",
   "execution_count": 11,
   "metadata": {},
   "outputs": [
    {
     "name": "stdout",
     "output_type": "stream",
     "text": [
      "265252859812191058636308480000000\n"
     ]
    }
   ],
   "source": [
    "i=1\n",
    "a=1\n",
    "while i<=30:\n",
    "    a=a*i\n",
    "    i+=1\n",
    "print(a)"
   ]
  },
  {
   "cell_type": "code",
   "execution_count": 12,
   "metadata": {},
   "outputs": [
    {
     "name": "stdout",
     "output_type": "stream",
     "text": [
      "enter 11\n",
      "enter 22\n",
      "yes\n",
      "\n",
      "***********************\n",
      "\n"
     ]
    }
   ],
   "source": [
    "import math\n",
    "m=int(input(\"enter 1\"))\n",
    "k=int(input(\"enter 2\"))\n",
    "for i in range (2,k+2):\n",
    "    if m%i==0:\n",
    "        break\n",
    "if i==k+1:print(\"yes\")\n",
    "else:print(\"no\")\n",
    "#请在下面编写代码\n",
    "# ********** Begin ********** #\n",
    "# ********** End ********** #\n",
    "# 请不要修改下面的代码\n",
    "print('\\n***********************\\n')"
   ]
  },
  {
   "cell_type": "code",
   "execution_count": null,
   "metadata": {},
   "outputs": [],
   "source": [
    "sum = 0\n",
    "avg = 0\n",
    "for num in r:\n",
    "# 请在下面编写代码\n",
    "# ********** Begin ********** #\n",
    "# ********** End ********** #\n",
    "# 请不要修改下面的代码\n",
    "print(sum, '\\t', avg)"
   ]
  },
  {
   "cell_type": "code",
   "execution_count": 16,
   "metadata": {},
   "outputs": [
    {
     "name": "stdout",
     "output_type": "stream",
     "text": [
      "1000\n",
      "100.0\n"
     ]
    }
   ],
   "source": [
    "from random import *\n",
    "from math import *\n",
    "r = []\n",
    "s=0\n",
    "avg=0\n",
    "list1=[10, 200,300,400,500,600,700,800,900,1000]\n",
    "for i in range(10):\n",
    "    s=list1[i]\n",
    "seed(i)\n",
    "r.append(randint(1, i))\n",
    "avg=s/10\n",
    "print(s)\n",
    "print(avg)"
   ]
  }
 ],
 "metadata": {
  "kernelspec": {
   "display_name": "Python 3",
   "language": "python",
   "name": "python3"
  },
  "language_info": {
   "codemirror_mode": {
    "name": "ipython",
    "version": 3
   },
   "file_extension": ".py",
   "mimetype": "text/x-python",
   "name": "python",
   "nbconvert_exporter": "python",
   "pygments_lexer": "ipython3",
   "version": "3.8.5"
  }
 },
 "nbformat": 4,
 "nbformat_minor": 4
}
