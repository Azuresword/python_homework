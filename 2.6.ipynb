{
 "cells": [
  {
   "cell_type": "code",
   "execution_count": 6,
   "metadata": {},
   "outputs": [
    {
     "name": "stdout",
     "output_type": "stream",
     "text": [
      "m = 1\n",
      "n = 2\n",
      "0\n"
     ]
    }
   ],
   "source": [
    "def fac(num):\n",
    "    result = 1\n",
    "    for n in range(1, num + 1):\n",
    "        result *= n\n",
    "    return result\n",
    "m = int(input('m = '))\n",
    "n = int(input('n = '))\n",
    "# 当需要计算阶乘的时候不用再写循环求阶乘而是直接调用已经定义好的函数\n",
    "print(fac(m) // fac(n) // fac(m - n))"
   ]
  },
  {
   "cell_type": "code",
   "execution_count": 17,
   "metadata": {},
   "outputs": [
    {
     "name": "stdout",
     "output_type": "stream",
     "text": [
      "12\n",
      "66\n"
     ]
    }
   ],
   "source": [
    "def fun(n):\n",
    "    sum=0\n",
    "    for i in range(n):\n",
    "        sum+=i\n",
    "    return sum\n",
    "sum=0\n",
    "n=0\n",
    "n=int(input())\n",
    "sum=fun(n)\n",
    "print(sum)"
   ]
  },
  {
   "cell_type": "code",
   "execution_count": 15,
   "metadata": {},
   "outputs": [
    {
     "name": "stdout",
     "output_type": "stream",
     "text": [
      "12\n",
      "39916800\n"
     ]
    }
   ],
   "source": [
    "def factorial(n):\n",
    "        fac=1\n",
    "        for i in range(n):\n",
    "            if(i==0):\n",
    "                continue\n",
    "            fac=fac*i\n",
    "# ********** End ********** # \n",
    "#请不要修改下面的代码\n",
    "        return fac\n",
    "n=int(input())\n",
    "sum=factorial(n)\n",
    "print(sum)"
   ]
  },
  {
   "cell_type": "code",
   "execution_count": 2,
   "metadata": {},
   "outputs": [
    {
     "name": "stdout",
     "output_type": "stream",
     "text": [
      "12\n",
      "no\n"
     ]
    }
   ],
   "source": [
    "a=int(input())\n",
    "for i in range(2,a):\n",
    "    if a%i==0:\n",
    "        print(\"no\")\n",
    "        break\n",
    "    i=i+1\n",
    "else:\n",
    "    print(\"yes\")"
   ]
  },
  {
   "cell_type": "code",
   "execution_count": 4,
   "metadata": {},
   "outputs": [
    {
     "name": "stdout",
     "output_type": "stream",
     "text": [
      "12\n",
      "0\n"
     ]
    }
   ],
   "source": [
    "def fun(n):\n",
    "    a=0\n",
    "    if n>=-10 and n<-8:\n",
    "        a=n-2\n",
    "    elif n>=-8 and n<-6:\n",
    "        a=n+3\n",
    "    elif n>=-6 and n<-2:\n",
    "        a=n^2\n",
    "    elif n>-2 and n<2:\n",
    "        if n<=0:\n",
    "            a=-n\n",
    "        else:\n",
    "            a=n\n",
    "    elif n>=2 and n<=4:\n",
    "        a=n^3\n",
    "    elif n>4 and n<=6:\n",
    "        a=3*n-4\n",
    "    elif n>6 and n<8:\n",
    "        a=4*n+1\n",
    "    return a\n",
    "n=int(input())\n",
    "sum=fun(n)\n",
    "print(sum)"
   ]
  }
 ],
 "metadata": {
  "kernelspec": {
   "display_name": "Python 3",
   "language": "python",
   "name": "python3"
  },
  "language_info": {
   "codemirror_mode": {
    "name": "ipython",
    "version": 3
   },
   "file_extension": ".py",
   "mimetype": "text/x-python",
   "name": "python",
   "nbconvert_exporter": "python",
   "pygments_lexer": "ipython3",
   "version": "3.8.5"
  }
 },
 "nbformat": 4,
 "nbformat_minor": 4
}
