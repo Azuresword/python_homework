{
 "cells": [
  {
   "cell_type": "code",
   "execution_count": 2,
   "metadata": {},
   "outputs": [
    {
     "name": "stdout",
     "output_type": "stream",
     "text": [
      "12\n",
      "yes\n",
      "\n",
      "***********************\n",
      "\n"
     ]
    }
   ],
   "source": [
    "month = int(input())\n",
    "list1 = [1,3,5,7,8,10,12]\n",
    "i=0\n",
    "for a in range(len(list1)):\n",
    "    if list1[a] == month:\n",
    "            i += 1\n",
    "if i!=0:\n",
    "    print(\"yes\")\n",
    "else:\n",
    "    print(\"no\")\n",
    "# 31 天的月份：1~7 之间的奇数月、8~12 之间的偶数月\n",
    "# 如果是 31 天的月份输出 yes\n",
    "####### begin #######\n",
    "####### end #########\n",
    "# 如果不是 31 天的月份，输出 no\n",
    "####### begi\n",
    "####### end #########\n",
    "print('\\n***********************\\n')"
   ]
  },
  {
   "cell_type": "code",
   "execution_count": 4,
   "metadata": {},
   "outputs": [
    {
     "name": "stdout",
     "output_type": "stream",
     "text": [
      "111\n",
      "3\n"
     ]
    }
   ],
   "source": [
    "# 从测试集得到风速\n",
    "v = int(input())\n",
    "# 默认是 0 级\n",
    "rank = 0\n",
    "# 如果风速在 74 到 95 之间，输出 1\n",
    "####### begin #######\n",
    "if v<74:\n",
    "    rank=0\n",
    "elif v<=95:\n",
    "    rank=1\n",
    "####### end #########\n",
    "# 如果风速在 96 到 110 之间，输出 2\n",
    "####### begin #######\n",
    "elif v<110:\n",
    "    rank=2\n",
    "####### end #########\n",
    "# 如果风速在 111 到 130 之间，输出 3\n",
    "####### begin #######\n",
    "elif v<130:\n",
    "    rank=3\n",
    "####### end #########\n",
    "# 如果风速在 131 到 154 之间，输出 4\n",
    "####### begin #######\n",
    "elif v<154:\n",
    "    rank=4\n",
    "####### end #########\n",
    "# 如果风速大于 155，输出 5\n",
    "####### begin #######\n",
    "else:\n",
    "    rank=5\n",
    "####### end #########\n",
    "print(rank)"
   ]
  },
  {
   "cell_type": "code",
   "execution_count": 16,
   "metadata": {},
   "outputs": [
    {
     "name": "stdout",
     "output_type": "stream",
     "text": [
      "101.23\n",
      "\n",
      "***********************\n",
      "\n",
      "3.14\n",
      "\n",
      "***********************\n",
      "\n",
      "0\n",
      "\n",
      "***********************\n",
      "\n",
      "12.55\n",
      "\n",
      "***********************\n",
      "\n",
      "1908\n",
      "\n",
      "***********************\n",
      "\n"
     ]
    }
   ],
   "source": [
    "t=0\n",
    "for number in [-101.23, -3.14, 0, 12.55, 1908]:\n",
    "# 请在下面编写代码\n",
    "# ********** Begin ********** #\n",
    "    if number<=0:\n",
    "        t = -number\n",
    "    else:\n",
    "        t=number\n",
    "# ********** End ********** #\n",
    "# 请不要修改下面的代码\n",
    "    print(t)\n",
    "    print('\\n***********************\\n')"
   ]
  },
  {
   "cell_type": "code",
   "execution_count": 19,
   "metadata": {},
   "outputs": [
    {
     "name": "stdout",
     "output_type": "stream",
     "text": [
      "12   34\n",
      "\n",
      "***********************\n",
      "\n",
      "-7   -6\n",
      "\n",
      "***********************\n",
      "\n",
      "-12   23\n",
      "\n",
      "***********************\n",
      "\n",
      "-273   0\n",
      "\n",
      "***********************\n",
      "\n",
      "0   199\n",
      "\n",
      "***********************\n",
      "\n"
     ]
    }
   ],
   "source": [
    "for (num1, num2) in [(12, 34), (-6, -7),(-12, 23), (-273, 0), (0, 199)]:\n",
    "# 请在下面编写代码\n",
    "# ********** Begin ********** #\n",
    "    if num1<num2:\n",
    "        min=num1\n",
    "        max=num2\n",
    "    elif num2<num1:\n",
    "        min=num2\n",
    "        max=num1\n",
    "    \n",
    "# ********** End ********** # \n",
    "# 请不要修改下面的代码\n",
    "    print(min, ' ', max)\n",
    "    print('\\n***********************\\n')"
   ]
  },
  {
   "cell_type": "code",
   "execution_count": 22,
   "metadata": {},
   "outputs": [
    {
     "ename": "TypeError",
     "evalue": "'type' object does not support item assignment",
     "output_type": "error",
     "traceback": [
      "\u001b[1;31m---------------------------------------------------------------------------\u001b[0m",
      "\u001b[1;31mTypeError\u001b[0m                                 Traceback (most recent call last)",
      "\u001b[1;32m<ipython-input-22-a8158f12ba12>\u001b[0m in \u001b[0;36m<module>\u001b[1;34m\u001b[0m\n\u001b[0;32m      5\u001b[0m              \u001b[1;32mif\u001b[0m \u001b[0marr\u001b[0m\u001b[1;33m[\u001b[0m\u001b[0mj\u001b[0m\u001b[1;33m]\u001b[0m \u001b[1;33m>\u001b[0m \u001b[0marr\u001b[0m\u001b[1;33m[\u001b[0m\u001b[0mj\u001b[0m\u001b[1;33m+\u001b[0m\u001b[1;36m1\u001b[0m\u001b[1;33m]\u001b[0m \u001b[1;33m:\u001b[0m\u001b[1;33m\u001b[0m\u001b[1;33m\u001b[0m\u001b[0m\n\u001b[0;32m      6\u001b[0m                 \u001b[0marr\u001b[0m\u001b[1;33m[\u001b[0m\u001b[0mj\u001b[0m\u001b[1;33m]\u001b[0m\u001b[1;33m,\u001b[0m \u001b[0marr\u001b[0m\u001b[1;33m[\u001b[0m\u001b[0mj\u001b[0m\u001b[1;33m+\u001b[0m\u001b[1;36m1\u001b[0m\u001b[1;33m]\u001b[0m \u001b[1;33m=\u001b[0m \u001b[0marr\u001b[0m\u001b[1;33m[\u001b[0m\u001b[0mj\u001b[0m\u001b[1;33m+\u001b[0m\u001b[1;36m1\u001b[0m\u001b[1;33m]\u001b[0m\u001b[1;33m,\u001b[0m \u001b[0marr\u001b[0m\u001b[1;33m[\u001b[0m\u001b[0mj\u001b[0m\u001b[1;33m]\u001b[0m\u001b[1;33m\u001b[0m\u001b[1;33m\u001b[0m\u001b[0m\n\u001b[1;32m----> 7\u001b[1;33m \u001b[0mlist\u001b[0m\u001b[1;33m[\u001b[0m\u001b[1;36m4\u001b[0m\u001b[1;33m]\u001b[0m\u001b[1;33m=\u001b[0m\u001b[1;33m[\u001b[0m\u001b[1;33m(\u001b[0m\u001b[1;33m-\u001b[0m\u001b[1;36m231\u001b[0m\u001b[1;33m,\u001b[0m \u001b[1;33m-\u001b[0m\u001b[1;36m321\u001b[0m\u001b[1;33m,\u001b[0m \u001b[1;36m123\u001b[0m\u001b[1;33m)\u001b[0m\u001b[1;33m,\u001b[0m \u001b[1;33m(\u001b[0m\u001b[1;36m100\u001b[0m\u001b[1;33m,\u001b[0m \u001b[1;36m0\u001b[0m\u001b[1;33m,\u001b[0m \u001b[1;33m-\u001b[0m\u001b[1;36m99\u001b[0m\u001b[1;33m)\u001b[0m\u001b[1;33m,\u001b[0m \u001b[1;33m(\u001b[0m\u001b[1;33m-\u001b[0m\u001b[1;36m980\u001b[0m\u001b[1;33m,\u001b[0m \u001b[1;33m-\u001b[0m\u001b[1;36m1002\u001b[0m\u001b[1;33m,\u001b[0m \u001b[1;33m-\u001b[0m\u001b[1;36m1\u001b[0m\u001b[1;33m)\u001b[0m\u001b[1;33m,\u001b[0m \u001b[1;33m(\u001b[0m\u001b[1;36m6\u001b[0m\u001b[1;33m,\u001b[0m\u001b[1;36m1\u001b[0m\u001b[1;33m,\u001b[0m\u001b[1;36m2017\u001b[0m\u001b[1;33m)\u001b[0m\u001b[1;33m]\u001b[0m\u001b[1;33m\u001b[0m\u001b[1;33m\u001b[0m\u001b[0m\n\u001b[0m\u001b[0;32m      8\u001b[0m \u001b[1;32mfor\u001b[0m \u001b[0ma\u001b[0m \u001b[1;32min\u001b[0m \u001b[0mrange\u001b[0m\u001b[1;33m(\u001b[0m\u001b[1;36m4\u001b[0m\u001b[1;33m)\u001b[0m\u001b[1;33m:\u001b[0m\u001b[1;33m\u001b[0m\u001b[1;33m\u001b[0m\u001b[0m\n\u001b[0;32m      9\u001b[0m     \u001b[0mbubbleSort\u001b[0m\u001b[1;33m(\u001b[0m\u001b[0mlist\u001b[0m\u001b[1;33m[\u001b[0m\u001b[0ma\u001b[0m\u001b[1;33m]\u001b[0m\u001b[1;33m)\u001b[0m\u001b[1;33m\u001b[0m\u001b[1;33m\u001b[0m\u001b[0m\n",
      "\u001b[1;31mTypeError\u001b[0m: 'type' object does not support item assignment"
     ]
    }
   ],
   "source": [
    "def bubbleSort(arr):\n",
    "    n = len(arr)\n",
    "    for i in range(n):\n",
    "        for j in range(0, n-i-1):\n",
    "             if arr[j] > arr[j+1] :\n",
    "                arr[j], arr[j+1] = arr[j+1], arr[j]\n",
    "list[4]=[(-231, -321, 123), (100, 0, -99), (-980, -1002, -1), (6,1,2017)]\n",
    "for a in range(4):\n",
    "    bubbleSort(list[a])\n",
    "for i in range(len(arr)):\n",
    "    print (\"%d\" %arr[i])"
   ]
  },
  {
   "cell_type": "code",
   "execution_count": null,
   "metadata": {},
   "outputs": [],
   "source": []
  }
 ],
 "metadata": {
  "kernelspec": {
   "display_name": "Python 3",
   "language": "python",
   "name": "python3"
  },
  "language_info": {
   "codemirror_mode": {
    "name": "ipython",
    "version": 3
   },
   "file_extension": ".py",
   "mimetype": "text/x-python",
   "name": "python",
   "nbconvert_exporter": "python",
   "pygments_lexer": "ipython3",
   "version": "3.8.5"
  }
 },
 "nbformat": 4,
 "nbformat_minor": 4
}
